{
 "cells": [
  {
   "cell_type": "code",
   "execution_count": 1,
   "id": "ed3e0641",
   "metadata": {},
   "outputs": [],
   "source": [
    "from bs4 import BeautifulSoup\n",
    "from requests import get\n",
    "from fake_useragent import UserAgent\n",
    "import re\n",
    "from bs4.element import Tag\n",
    "from json import loads"
   ]
  },
  {
   "cell_type": "code",
   "execution_count": 2,
   "id": "86eb9fdb",
   "metadata": {},
   "outputs": [],
   "source": [
    "def get_soup(pid: str) -> BeautifulSoup:\n",
    "    url = f'https://amazon.com.br/dp/{pid}'\n",
    "    user_agent = UserAgent()\n",
    "    random_user_agent = user_agent.random\n",
    "    header = {\n",
    "        'Accept': '*/*',\n",
    "        'User-Agent': random_user_agent,\n",
    "        'Accept-Language': 'pt-BR,pt;q=0.8,en-US;q=0.5,en;q=0.3'\n",
    "    }\n",
    "    page = get(url, headers=header)\n",
    "    assert page.status_code == 200, 'Status Code must be 200'\n",
    "    \n",
    "    return BeautifulSoup(page.content, 'html.parser')"
   ]
  },
  {
   "cell_type": "code",
   "execution_count": 3,
   "id": "839c5217",
   "metadata": {},
   "outputs": [],
   "source": [
    "def get_title(soup: BeautifulSoup):\n",
    "    title = soup.find(id='productTitle')\n",
    "    if title: return title.get_text().strip()\n",
    "    return \"Not Defined\""
   ]
  },
  {
   "cell_type": "code",
   "execution_count": 4,
   "id": "740dc89c",
   "metadata": {},
   "outputs": [],
   "source": [
    "def get_reviews(soup: BeautifulSoup):\n",
    "    title = soup.find(id='acrCustomerReviewText')\n",
    "    if title is None: return 0\n",
    "    reviews = re.search(\"^[\\d*\\.]+\", title.get_text())\n",
    "    if not reviews: return 0\n",
    "    return int(reviews.group().replace('.', ''))"
   ]
  },
  {
   "cell_type": "code",
   "execution_count": 5,
   "id": "dfc3fe98",
   "metadata": {},
   "outputs": [],
   "source": [
    "def get_category(soup: BeautifulSoup, delimiter: str = \" > \"):\n",
    "    element = soup.find(id='wayfinding-breadcrumbs_container')\n",
    "    if element is None: return 'Not Defined'\n",
    "    element = str(element)\n",
    "    inner_text = re.findall(r\">\\n([\\s/\\n\\w]+)<\", element)\n",
    "    if inner_text:\n",
    "        return delimiter.join(\n",
    "            set([txt.strip() for txt in inner_text if txt.strip() != \"\"])\n",
    "        )\n",
    "\n",
    "    return \"Not Defined\""
   ]
  },
  {
   "cell_type": "code",
   "execution_count": 6,
   "id": "20cf9bad",
   "metadata": {},
   "outputs": [],
   "source": [
    "def get_free_shipping(soup: BeautifulSoup) -> str:\n",
    "    prime_div = soup.find(id=\"primeSavingsUpsellCaption_feature_div\")\n",
    "    if prime_div is not None:\n",
    "        return \"true\"\n",
    "\n",
    "    prime_div = soup.select(\"div.tabular-buybox-text:nth-child(4) div:nth-child(1) span:nth-child(1)\")\n",
    "    if prime_div:\n",
    "        prime_div = prime_div[0].text\n",
    "        if \"amazon\" in prime_div.strip().lower(): return \"true\"\n",
    "    \n",
    "    prime_div = soup.select(\"div#mir-layout-DELIVERY_BLOCK-slot-PRIMARY_DELIVERY_MESSAGE_LARGE span\")\n",
    "    if prime_div:\n",
    "        prime_div = prime_div[0].text\n",
    "        if \"grátis\" in prime_div.strip().lower(): return \"true\"\n",
    "        \n",
    "    return \"false\""
   ]
  },
  {
   "cell_type": "code",
   "execution_count": 7,
   "id": "742dc4b4",
   "metadata": {},
   "outputs": [],
   "source": [
    "def convert_price_to_number(price_string: str) -> float:\n",
    "    price = re.search(\"[\\d\\,\\.]+\", price_string)\n",
    "    return float(price.group().replace('.', '').replace(',', '.'))"
   ]
  },
  {
   "cell_type": "code",
   "execution_count": 8,
   "id": "4867fc6e",
   "metadata": {},
   "outputs": [],
   "source": [
    "def loop_price_selectors(element: Tag):\n",
    "    '''\n",
    "    Com o element selecionado e existente, roda um loop nos possíveis seletores\n",
    "    que podem possuir o preço, e se esse seletor existir, retorna o conteúdo (innerText) \n",
    "    do seletor.\n",
    "    '''\n",
    "    possible_price_selectors =['span.a-offscreen']\n",
    "    for selector in possible_price_selectors:\n",
    "        has_content = element.select(selector)\n",
    "        if has_content: return has_content[0].text\n",
    "    return None"
   ]
  },
  {
   "cell_type": "code",
   "execution_count": 9,
   "id": "4e08d75c",
   "metadata": {},
   "outputs": [],
   "source": [
    "def get_price(soup: BeautifulSoup) -> float:\n",
    "    price_container_element = soup.find(id='corePrice_feature_div')\n",
    "    if price_container_element:\n",
    "        price = loop_price_selectors(price_container_element)\n",
    "        if price: return convert_price_to_number(price)\n",
    "    del price_container_element\n",
    "    \n",
    "    # no caso de livros, #corePrice_feature_div existe, mas não contem dados relevantes, o elemento a ser capturado é outro\n",
    "    book_price = soup.find(id='price')\n",
    "    if book_price: return convert_price_to_number(book_price.text)\n",
    "    del book_price\n",
    "    \n",
    "    # para ebooks kindle, o processo é semelhante ao de livros\n",
    "    ebook_price = soup.find(id='kindle-price')\n",
    "    if ebook_price: return convert_price_to_number(ebook_price.text)\n",
    "    \n",
    "    return 0.0"
   ]
  },
  {
   "cell_type": "code",
   "execution_count": 10,
   "id": "8f48d1f0",
   "metadata": {},
   "outputs": [],
   "source": [
    "def convert_discount_to_number(discount_string: str) -> int:\n",
    "    discount = re.search(\"\\d{1,2}%\", discount_string)\n",
    "    return int(discount.group().replace('%',''))"
   ]
  },
  {
   "cell_type": "code",
   "execution_count": 11,
   "id": "56961f04",
   "metadata": {},
   "outputs": [],
   "source": [
    "def get_discount(soup: BeautifulSoup) -> int:\n",
    "    discount_basic_element = soup.find('span', {'class': 'savingPriceOverride'})\n",
    "    if discount_basic_element: return convert_discount_to_number(discount_basic_element.text)\n",
    "    del discount_basic_element\n",
    "    \n",
    "    # livros fisicos\n",
    "    book_discount = soup.find(id='savingsPercentage')\n",
    "    if book_discount: return convert_discount_to_number(book_discount.text)\n",
    "    del book_discount\n",
    "    \n",
    "    # ebooks\n",
    "    ebook_discount = soup.select('p.ebooks-price-savings')\n",
    "    if ebook_discount: return convert_discount_to_number(ebook_discount[0].text)\n",
    "    del ebook_discount\n",
    "    \n",
    "    # preços e discontos em <table>\n",
    "    table_discount = soup.select('tr td.a-span12.a-color-price.a-size-base span.a-color-price')\n",
    "    if table_discount: return convert_discount_to_number(table_discount[0].text)\n",
    "\n",
    "    \n",
    "    return 0\n",
    "    "
   ]
  },
  {
   "cell_type": "code",
   "execution_count": 12,
   "id": "d3a990b8",
   "metadata": {},
   "outputs": [],
   "source": [
    "def get_previous_price(soup: BeautifulSoup):\n",
    "    basis_price_element = soup.find('span', {'class': 'basisPrice'})\n",
    "    if basis_price_element:\n",
    "        previous_price = basis_price_element.find('span', {'class': 'a-offscreen'})\n",
    "        if previous_price: return convert_price_to_number(previous_price.text)\n",
    "    del basis_price_element\n",
    "    \n",
    "    # ebooks\n",
    "    basis_price_element = soup.find(id='digital-list-price')\n",
    "    if basis_price_element: return convert_price_to_number(basis_price_element.text)\n",
    "    del basis_price_element\n",
    "    \n",
    "    # livros físicos\n",
    "    basis_price_element = soup.find(id='listPrice')\n",
    "    if basis_price_element: return convert_price_to_number(basis_price_element.text)\n",
    "    del basis_price_element\n",
    "    \n",
    "    return None"
   ]
  },
  {
   "cell_type": "code",
   "execution_count": 13,
   "id": "92998b03",
   "metadata": {},
   "outputs": [],
   "source": [
    "def get_biggest_image(element: Tag):\n",
    "    images = element.get('data-a-dynamic-image', None)\n",
    "    if images:\n",
    "        images = list(loads(images).keys())\n",
    "        return images[-1]\n",
    "    return None"
   ]
  },
  {
   "cell_type": "code",
   "execution_count": 14,
   "id": "3bdeb074",
   "metadata": {},
   "outputs": [],
   "source": [
    "def get_image_url(soup: BeautifulSoup) -> str:\n",
    "    #v1\n",
    "    image_element = soup.find('img', {'class': 'a-dynamic-image'})\n",
    "    if image_element:\n",
    "        image_url = image_element.get('data-old-hires', None)\n",
    "        if image_url: return image_url\n",
    "    del image_element\n",
    "    \n",
    "    # v2\n",
    "    image_element = soup.find(id='landingImage')\n",
    "    if image_element:\n",
    "        image_url = image_element.get('data-old-hires', None)\n",
    "        if image_url: return image_url\n",
    "    del image_element\n",
    "    \n",
    "    # v3\n",
    "    image_element = soup.find(id='landingImage')\n",
    "    if image_element: \n",
    "        image_url = get_biggest_image(image_element)\n",
    "        if image_url: return image_url\n",
    "        \n",
    "    # livros físicos\n",
    "    image_element = soup.find(id='ebooksImgBlkFront')\n",
    "    if image_element: \n",
    "        image_url = get_biggest_image(image_element)\n",
    "        if image_url: return image_url\n",
    "    del image_element\n",
    "    \n",
    "\n",
    "    return None"
   ]
  },
  {
   "cell_type": "code",
   "execution_count": 15,
   "id": "aeccda75",
   "metadata": {},
   "outputs": [],
   "source": [
    "soup = get_soup('B07XB3JDCB')"
   ]
  },
  {
   "cell_type": "code",
   "execution_count": 17,
   "id": "8683f98d",
   "metadata": {
    "scrolled": true
   },
   "outputs": [
    {
     "data": {
      "text/plain": [
       "'https://m.media-amazon.com/images/I/819srW8JiRL._AC_SL1500_.jpg'"
      ]
     },
     "execution_count": 17,
     "metadata": {},
     "output_type": "execute_result"
    }
   ],
   "source": [
    "get_image_url(soup)"
   ]
  },
  {
   "cell_type": "code",
   "execution_count": 18,
   "id": "2baeadd3",
   "metadata": {},
   "outputs": [
    {
     "data": {
      "text/plain": [
       "137.74"
      ]
     },
     "execution_count": 18,
     "metadata": {},
     "output_type": "execute_result"
    }
   ],
   "source": [
    "get_previous_price(soup)"
   ]
  },
  {
   "cell_type": "code",
   "execution_count": 19,
   "id": "b18de87a",
   "metadata": {},
   "outputs": [
    {
     "data": {
      "text/plain": [
       "6"
      ]
     },
     "execution_count": 19,
     "metadata": {},
     "output_type": "execute_result"
    }
   ],
   "source": [
    "get_discount(soup)"
   ]
  },
  {
   "cell_type": "code",
   "execution_count": 20,
   "id": "aa9748bd",
   "metadata": {
    "scrolled": true
   },
   "outputs": [
    {
     "data": {
      "text/plain": [
       "129.9"
      ]
     },
     "execution_count": 20,
     "metadata": {},
     "output_type": "execute_result"
    }
   ],
   "source": [
    "get_price(soup)"
   ]
  },
  {
   "cell_type": "code",
   "execution_count": 21,
   "id": "f8047ab6",
   "metadata": {
    "scrolled": true
   },
   "outputs": [
    {
     "data": {
      "text/plain": [
       "'Barbie Conjunto de Brinquedo Maiô Rosa e Piscina para crianças a partir de 3 anos'"
      ]
     },
     "execution_count": 21,
     "metadata": {},
     "output_type": "execute_result"
    }
   ],
   "source": [
    "get_title(soup)"
   ]
  },
  {
   "cell_type": "code",
   "execution_count": 22,
   "id": "fa24ca1d",
   "metadata": {},
   "outputs": [
    {
     "data": {
      "text/plain": [
       "1375"
      ]
     },
     "execution_count": 22,
     "metadata": {},
     "output_type": "execute_result"
    }
   ],
   "source": [
    "get_reviews(soup)"
   ]
  },
  {
   "cell_type": "code",
   "execution_count": 23,
   "id": "8deac8ee",
   "metadata": {
    "scrolled": false
   },
   "outputs": [
    {
     "data": {
      "text/plain": [
       "'Bonecas > Bonecas e Acessórios > Brinquedos e Jogos'"
      ]
     },
     "execution_count": 23,
     "metadata": {},
     "output_type": "execute_result"
    }
   ],
   "source": [
    "get_category(soup)"
   ]
  },
  {
   "cell_type": "code",
   "execution_count": 24,
   "id": "c334b388",
   "metadata": {},
   "outputs": [
    {
     "data": {
      "text/plain": [
       "'true'"
      ]
     },
     "execution_count": 24,
     "metadata": {},
     "output_type": "execute_result"
    }
   ],
   "source": [
    "get_is_prime(soup)"
   ]
  },
  {
   "cell_type": "code",
   "execution_count": null,
   "id": "a62b91d5",
   "metadata": {},
   "outputs": [],
   "source": []
  }
 ],
 "metadata": {
  "kernelspec": {
   "display_name": "Python 3 (ipykernel)",
   "language": "python",
   "name": "python3"
  },
  "language_info": {
   "codemirror_mode": {
    "name": "ipython",
    "version": 3
   },
   "file_extension": ".py",
   "mimetype": "text/x-python",
   "name": "python",
   "nbconvert_exporter": "python",
   "pygments_lexer": "ipython3",
   "version": "3.10.6"
  }
 },
 "nbformat": 4,
 "nbformat_minor": 5
}
