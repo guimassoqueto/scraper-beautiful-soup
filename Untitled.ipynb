{
 "cells": [
  {
   "cell_type": "code",
   "execution_count": 1,
   "id": "ed3e0641",
   "metadata": {},
   "outputs": [],
   "source": [
    "from bs4 import BeautifulSoup\n",
    "from requests import get\n",
    "from fake_useragent import UserAgent\n",
    "import re"
   ]
  },
  {
   "cell_type": "code",
   "execution_count": 2,
   "id": "86eb9fdb",
   "metadata": {},
   "outputs": [],
   "source": [
    "def get_soup(pid: str) -> BeautifulSoup:\n",
    "    url = f'https://amazon.com.br/dp/{pid}'\n",
    "    user_agent = UserAgent()\n",
    "    random_user_agent = user_agent.random\n",
    "    header = {\n",
    "        'Accept': '*/*',\n",
    "        'User-Agent': random_user_agent,\n",
    "        'Accept-Language': 'pt-BR,pt;q=0.8,en-US;q=0.5,en;q=0.3'\n",
    "    }\n",
    "    page = get(url, headers=header)\n",
    "    assert page.status_code == 200, 'Status Code must be 200'\n",
    "    \n",
    "    return BeautifulSoup(page.content, 'html.parser')"
   ]
  },
  {
   "cell_type": "code",
   "execution_count": 3,
   "id": "839c5217",
   "metadata": {},
   "outputs": [],
   "source": [
    "def get_title(soup: BeautifulSoup):\n",
    "    assert soup.title.string is not None, 'title must not be None'\n",
    "    return soup.title.string"
   ]
  },
  {
   "cell_type": "code",
   "execution_count": 4,
   "id": "740dc89c",
   "metadata": {},
   "outputs": [],
   "source": [
    "def get_reviews(soup: BeautifulSoup):\n",
    "    title = soup.find(id='acrCustomerReviewText')\n",
    "    if title is None: return 0\n",
    "    reviews = re.search(\"^[\\d*\\.]+\", title.get_text())\n",
    "    if not reviews: return 0\n",
    "    return int(reviews.group().replace('.', ''))"
   ]
  },
  {
   "cell_type": "code",
   "execution_count": 5,
   "id": "dfc3fe98",
   "metadata": {},
   "outputs": [],
   "source": [
    "def get_category(soup: BeautifulSoup, delimiter: str = \" > \"):\n",
    "    element = soup.find(id='wayfinding-breadcrumbs_container')\n",
    "    if element is None: return 'Not Defined'\n",
    "    element = str(element)\n",
    "    inner_text = re.findall(r\">\\n([\\s/\\n\\w]+)<\", element)\n",
    "    if inner_text:\n",
    "        return delimiter.join(\n",
    "            set([txt.strip() for txt in inner_text if txt.strip() != \"\"])\n",
    "        )\n",
    "\n",
    "    return \"Not Defined\""
   ]
  },
  {
   "cell_type": "code",
   "execution_count": 6,
   "id": "20cf9bad",
   "metadata": {},
   "outputs": [],
   "source": [
    "def get_is_prime(soup: BeautifulSoup) -> str:\n",
    "    prime_div = soup.find(id=\"primeSavingsUpsellCaption_feature_div\")\n",
    "    if prime_div is not None:\n",
    "        return \"true\"\n",
    "\n",
    "    prime_div = soup.select(\"div.tabular-buybox-text:nth-child(4) div:nth-child(1) span:nth-child(1)\")\n",
    "    if prime_div:\n",
    "        prime_div = prime_div[0].text\n",
    "        if \"amazon\" in prime_div.strip().lower(): return \"true\"\n",
    "    \n",
    "    prime_div = soup.select(\"div#mir-layout-DELIVERY_BLOCK-slot-PRIMARY_DELIVERY_MESSAGE_LARGE span\")\n",
    "    if prime_div:\n",
    "        prime_div = prime_div[0].text\n",
    "        if \"grátis\" in prime_div.strip().lower(): return \"true\"\n",
    "        \n",
    "    return \"false\""
   ]
  },
  {
   "cell_type": "code",
   "execution_count": 7,
   "id": "1b21a488",
   "metadata": {},
   "outputs": [],
   "source": [
    "soup = get_soup('B000F7823U')"
   ]
  },
  {
   "cell_type": "code",
   "execution_count": 8,
   "id": "f8047ab6",
   "metadata": {},
   "outputs": [
    {
     "data": {
      "text/plain": [
       "'NORPRO Norpro Assadeira de Biscoito S/S 35 x 30 cm, 1 EA, 3861 | Amazon.com.br'"
      ]
     },
     "execution_count": 8,
     "metadata": {},
     "output_type": "execute_result"
    }
   ],
   "source": [
    "get_title(soup)"
   ]
  },
  {
   "cell_type": "code",
   "execution_count": 9,
   "id": "fa24ca1d",
   "metadata": {},
   "outputs": [
    {
     "data": {
      "text/plain": [
       "0"
      ]
     },
     "execution_count": 9,
     "metadata": {},
     "output_type": "execute_result"
    }
   ],
   "source": [
    "get_reviews(soup)"
   ]
  },
  {
   "cell_type": "code",
   "execution_count": 10,
   "id": "8deac8ee",
   "metadata": {},
   "outputs": [
    {
     "data": {
      "text/plain": [
       "'Cozinha > Compras Internacionais em Cozinha > Kitchen NAFN'"
      ]
     },
     "execution_count": 10,
     "metadata": {},
     "output_type": "execute_result"
    }
   ],
   "source": [
    "get_category(soup)"
   ]
  },
  {
   "cell_type": "code",
   "execution_count": 11,
   "id": "c334b388",
   "metadata": {},
   "outputs": [
    {
     "data": {
      "text/plain": [
       "'true'"
      ]
     },
     "execution_count": 11,
     "metadata": {},
     "output_type": "execute_result"
    }
   ],
   "source": [
    "get_is_prime(soup)"
   ]
  },
  {
   "cell_type": "code",
   "execution_count": null,
   "id": "a62b91d5",
   "metadata": {},
   "outputs": [],
   "source": []
  }
 ],
 "metadata": {
  "kernelspec": {
   "display_name": "Python 3 (ipykernel)",
   "language": "python",
   "name": "python3"
  },
  "language_info": {
   "codemirror_mode": {
    "name": "ipython",
    "version": 3
   },
   "file_extension": ".py",
   "mimetype": "text/x-python",
   "name": "python",
   "nbconvert_exporter": "python",
   "pygments_lexer": "ipython3",
   "version": "3.10.6"
  }
 },
 "nbformat": 4,
 "nbformat_minor": 5
}
